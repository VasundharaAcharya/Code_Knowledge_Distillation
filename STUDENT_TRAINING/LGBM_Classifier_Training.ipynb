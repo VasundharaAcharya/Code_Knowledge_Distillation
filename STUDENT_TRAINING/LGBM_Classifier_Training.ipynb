{
  "nbformat": 4,
  "nbformat_minor": 0,
  "metadata": {
    "colab": {
      "provenance": []
    },
    "kernelspec": {
      "name": "python3",
      "display_name": "Python 3"
    },
    "language_info": {
      "name": "python"
    }
  },
  "cells": [
    {
      "cell_type": "code",
      "execution_count": null,
      "metadata": {
        "id": "i1exXKsz8A8l"
      },
      "outputs": [],
      "source": [
        "import lightgbm as lgb\n",
        "import pandas as pd\n",
        "import numpy as np\n",
        "from sklearn.metrics import accuracy_score, f1_score, confusion_matrix\n",
        "from sklearn.model_selection import train_test_split\n",
        "\n",
        "## Placeholder Data : You must replace them with your actual dataset here. This is just a placeholder\n",
        "X_train_df = pd.DataFrame(np.random.rand(100, 10))\n",
        "y_train_df = pd.Series(np.random.randint(0, 2, 100))\n",
        "X_val_df = pd.DataFrame(np.random.rand(50, 10))\n",
        "y_val_df = pd.Series(np.random.randint(0, 2, 50))\n",
        "X_test_df = pd.DataFrame(np.random.rand(50, 10))\n",
        "y_test_df = pd.Series(np.random.randint(0, 2, 50))\n",
        "\n",
        "\n",
        "##This can be done for any ensemble model. Just replace the model with model of interest\n",
        "def run_experiment(random_state, X_train, y_train, X_val, y_val, X_test, y_test):\n",
        "    \"\"\"\n",
        "    Trains and evaluates a LightGBM model.\n",
        "    \"\"\"\n",
        "    ## If no GPU is available, change 'gpu' to 'cpu'.\n",
        "    model = lgb.LGBMClassifier(\n",
        "        device_type='gpu',\n",
        "        n_estimators=6,\n",
        "        max_depth=12,\n",
        "        learning_rate=0.3,\n",
        "        random_state=random_state,\n",
        "        num_leaves=50\n",
        "    )\n",
        "\n",
        "    model.fit(X_train, y_train)\n",
        "\n",
        "    ## Get predictions\n",
        "    predictions_train = model.predict(X_train)\n",
        "    predictions_val = model.predict(X_val)\n",
        "    predictions_test = model.predict(X_test)\n",
        "\n",
        "    ## Calculate performance metrics\n",
        "    acc_train = accuracy_score(y_train, predictions_train)\n",
        "    acc_val = accuracy_score(y_val, predictions_val)\n",
        "    acc_test = accuracy_score(y_test, predictions_test)\n",
        "\n",
        "    f1_train = f1_score(y_train, predictions_train, average='weighted')\n",
        "    f1_val = f1_score(y_val, predictions_val, average='weighted')\n",
        "    f1_test = f1_score(y_test, predictions_test, average='weighted')\n",
        "\n",
        "    # The confusion matrix: if needed to evaluate the class wise performance.\n",
        "    print(f\"Confusion Matrix for seed {random_state}:\\n{confusion_matrix(y_test, predictions_test)}\\n\")\n",
        "    ## We have not returned the cfm here, if needed it can be returned.\n",
        "    return acc_train, acc_val, acc_test, f1_train, f1_val, f1_test\n",
        "\n",
        "## Running the experiment three times with different random seeds. You can choose any seed or any number of seeds.\n",
        "results = []\n",
        "seeds = [20, 42, 100]\n",
        "for seed in seeds:\n",
        "    ## Pass data as arguments to the function\n",
        "    experiment_results = run_experiment(seed, X_train_df, y_train_df, X_val_df, y_val_df, X_test_df, y_test_df)\n",
        "    results.append(experiment_results)\n",
        "\n",
        "results_np = np.array(results)\n",
        "mean_results = results_np.mean(axis=0)\n",
        "\n",
        "\n",
        "# Print final aggregated results. Compute the std if required.\n",
        "print(\"--- Final Results ---\")\n",
        "print(f\"Mean Accuracy (Train | Val | Test): {mean_results[0]:.4f} | {mean_results[1]:.4f} | {mean_results[2]:.4f}\")\n",
        "\n",
        "\n",
        "print(f\"Mean F1-Score (Train | Val | Test): {mean_results[3]:.4f} | {mean_results[4]:.4f} | {mean_results[5]:.4f}\")\n"
      ]
    }
  ]
}